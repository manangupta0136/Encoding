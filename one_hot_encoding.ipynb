{
 "cells": [
  {
   "cell_type": "code",
   "execution_count": 6,
   "id": "45ddb798-8a16-43eb-9095-0bbf4c3f6cef",
   "metadata": {},
   "outputs": [],
   "source": [
    "import pandas as pd\n",
    "import numpy as np"
   ]
  },
  {
   "cell_type": "code",
   "execution_count": 8,
   "id": "1bcd9cca-6bab-48ef-a42d-3c0f0fb55105",
   "metadata": {},
   "outputs": [],
   "source": [
    "# Sample DataFrame\n",
    "data = {\n",
    "    'Color': ['Red', 'Green', 'Blue', 'Green', 'Blue', 'Red'],\n",
    "    'Size': ['S', 'M', 'L', 'M', 'S', 'L']\n",
    "}"
   ]
  },
  {
   "cell_type": "code",
   "execution_count": 10,
   "id": "f516d0fe-1c9f-4a43-b996-68632567c93f",
   "metadata": {},
   "outputs": [],
   "source": [
    "df = pd.DataFrame(data)"
   ]
  },
  {
   "cell_type": "code",
   "execution_count": 12,
   "id": "d5c63f23-0dfd-4755-bded-bdded5e8a6d2",
   "metadata": {},
   "outputs": [],
   "source": [
    "def ordinal_encoding(df, column, mapping):\n",
    "    df[column + '_ordinal'] = df[column].map(mapping)\n",
    "    return df"
   ]
  },
  {
   "cell_type": "code",
   "execution_count": 14,
   "id": "ae293f79-aa08-496f-a8de-abed565a8ead",
   "metadata": {},
   "outputs": [],
   "source": [
    "size_mapping = {'S': 1, 'M': 2, 'L': 3}\n",
    "df = ordinal_encoding(df, 'Size', size_mapping)"
   ]
  },
  {
   "cell_type": "code",
   "execution_count": 16,
   "id": "f2078f95-2a06-4342-b68e-d7b7c7d79510",
   "metadata": {},
   "outputs": [],
   "source": [
    "def one_hot_encoding(df, column):\n",
    "    one_hot = pd.get_dummies(df[column], prefix=column)\n",
    "    df = pd.concat([df, one_hot], axis=1)\n",
    "    return df"
   ]
  },
  {
   "cell_type": "code",
   "execution_count": 18,
   "id": "d7bba6f5-3db5-4d39-ad62-45c78fe5820f",
   "metadata": {},
   "outputs": [],
   "source": [
    "df = one_hot_encoding(df, 'Color')"
   ]
  },
  {
   "cell_type": "code",
   "execution_count": 20,
   "id": "d5398a68-6c9a-4141-831f-61b2d0f3f8ec",
   "metadata": {},
   "outputs": [
    {
     "name": "stdout",
     "output_type": "stream",
     "text": [
      "   Color Size  Size_ordinal  Color_Blue  Color_Green  Color_Red\n",
      "0    Red    S             1       False        False       True\n",
      "1  Green    M             2       False         True      False\n",
      "2   Blue    L             3        True        False      False\n",
      "3  Green    M             2       False         True      False\n",
      "4   Blue    S             1        True        False      False\n",
      "5    Red    L             3       False        False       True\n"
     ]
    }
   ],
   "source": [
    "print(df)"
   ]
  },
  {
   "cell_type": "code",
   "execution_count": null,
   "id": "9cadef3f-a311-49df-92e3-e95865e0c714",
   "metadata": {},
   "outputs": [],
   "source": []
  }
 ],
 "metadata": {
  "kernelspec": {
   "display_name": "Python 3 (ipykernel)",
   "language": "python",
   "name": "python3"
  },
  "language_info": {
   "codemirror_mode": {
    "name": "ipython",
    "version": 3
   },
   "file_extension": ".py",
   "mimetype": "text/x-python",
   "name": "python",
   "nbconvert_exporter": "python",
   "pygments_lexer": "ipython3",
   "version": "3.12.7"
  }
 },
 "nbformat": 4,
 "nbformat_minor": 5
}
